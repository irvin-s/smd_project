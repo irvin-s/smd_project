{
 "metadata": {
  "language_info": {
   "codemirror_mode": {
    "name": "ipython",
    "version": 3
   },
   "file_extension": ".py",
   "mimetype": "text/x-python",
   "name": "python",
   "nbconvert_exporter": "python",
   "pygments_lexer": "ipython3",
   "version": "3.9.1-final"
  },
  "orig_nbformat": 2,
  "kernelspec": {
   "name": "python3",
   "display_name": "Python 3.9.1 64-bit",
   "metadata": {
    "interpreter": {
     "hash": "799275936fb7c37caa15961302e1f6bc5b6f09e92bdf39e5acfe019a9d46a476"
    }
   }
  }
 },
 "nbformat": 4,
 "nbformat_minor": 2,
 "cells": [
  {
   "cell_type": "code",
   "execution_count": null,
   "metadata": {},
   "outputs": [],
   "source": [
    "import pandas as pd"
   ]
  },
  {
   "cell_type": "code",
   "execution_count": null,
   "metadata": {},
   "outputs": [
    {
     "output_type": "error",
     "ename": "Error",
     "evalue": "ModuleNotFoundError",
     "traceback": [
      "Error: ModuleNotFoundError",
      "at b.parseConnectInfo (c:\\Users\\Irvin\\.vscode\\extensions\\ms-toolsai.jupyter-2021.3.619093157\\out\\client\\extension.js:49:476526)",
      "at b.connectToLocal (c:\\Users\\Irvin\\.vscode\\extensions\\ms-toolsai.jupyter-2021.3.619093157\\out\\client\\extension.js:49:477129)",
      "at async b.connect (c:\\Users\\Irvin\\.vscode\\extensions\\ms-toolsai.jupyter-2021.3.619093157\\out\\client\\extension.js:49:475006)",
      "at async b.startDebugSession (c:\\Users\\Irvin\\.vscode\\extensions\\ms-toolsai.jupyter-2021.3.619093157\\out\\client\\extension.js:49:474153)",
      "at async T.submitCode (c:\\Users\\Irvin\\.vscode\\extensions\\ms-toolsai.jupyter-2021.3.619093157\\out\\client\\extension.js:32:610139)",
      "at async T.handleRunByLine (c:\\Users\\Irvin\\.vscode\\extensions\\ms-toolsai.jupyter-2021.3.619093157\\out\\client\\extension.js:32:598085)"
     ]
    }
   ],
   "source": [
    "#Importando o dataset\n",
    "df = pd.read_excel(\"https://raw.githubusercontent.com/irvin-s/smd_project/main/dataset/dry_bean_dataset.xls\")"
   ]
  },
  {
   "cell_type": "code",
   "execution_count": null,
   "metadata": {},
   "outputs": [],
   "source": [
    "#Verificando o tamanho da base\n",
    "df.shape"
   ]
  },
  {
   "cell_type": "code",
   "execution_count": null,
   "metadata": {},
   "outputs": [],
   "source": [
    "#Verificando os dados\n",
    "df.head"
   ]
  },
  {
   "cell_type": "code",
   "execution_count": null,
   "metadata": {},
   "outputs": [],
   "source": [
    "#Conhecendo as variáveis\n",
    "df.columns"
   ]
  }
 ]
}