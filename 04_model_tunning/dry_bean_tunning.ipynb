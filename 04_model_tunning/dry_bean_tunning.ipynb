{
  "nbformat": 4,
  "nbformat_minor": 0,
  "metadata": {
    "language_info": {
      "codemirror_mode": {
        "name": "ipython",
        "version": 3
      },
      "file_extension": ".py",
      "mimetype": "text/x-python",
      "name": "python",
      "nbconvert_exporter": "python",
      "pygments_lexer": "ipython3",
      "version": "3.9.1-final"
    },
    "orig_nbformat": 2,
    "kernelspec": {
      "name": "python3",
      "display_name": "Python 3.9.1 64-bit",
      "metadata": {
        "interpreter": {
          "hash": "799275936fb7c37caa15961302e1f6bc5b6f09e92bdf39e5acfe019a9d46a476"
        }
      }
    },
    "colab": {
      "name": "dry_bean_tunning.ipynb",
      "provenance": []
    }
  },
  "cells": [
    {
      "cell_type": "code",
      "metadata": {
        "id": "_dvIz-1A6p_l"
      },
      "source": [
        "import pandas as pd\n",
        "import numpy as np\n",
        "from sklearn.preprocessing import StandardScaler\n",
        "from sklearn.model_selection import train_test_split\n",
        "from sklearn.neighbors import KNeighborsClassifier\n",
        "from sklearn.tree import DecisionTreeClassifier\n",
        "from sklearn.ensemble import RandomForestClassifier\n",
        "from sklearn.ensemble import RandomForestRegressor\n",
        "from keras.models import Sequential\n",
        "from keras.layers.core import Dense\n",
        "from keras.optimizers import SGD\n",
        "from sklearn.preprocessing import LabelEncoder\n",
        "from sklearn.preprocessing import LabelBinarizer\n",
        "from sklearn.model_selection import cross_val_score\n",
        "from sklearn.metrics import classification_report, confusion_matrix, accuracy_score"
      ],
      "execution_count": 83,
      "outputs": []
    },
    {
      "cell_type": "code",
      "metadata": {
        "id": "_l1IvTAd6p_u"
      },
      "source": [
        "#Carregando o dataset\n",
        "df = pd.read_excel(\"https://raw.githubusercontent.com/irvin-s/smd_project/main/dataset/dry_bean_dataset.xls\")"
      ],
      "execution_count": 84,
      "outputs": []
    },
    {
      "cell_type": "code",
      "metadata": {
        "id": "QWe9myuZ6p_v"
      },
      "source": [
        "#atribuindo os labes para a classe reposta\n",
        "labels = [\"Barbunya\", \"Bombay\", \"Cali\", \"Dermason\", \"Horoz\", \"Seker\", \"Sira\"]\n",
        "\n",
        "#Dividindo a base em treino e teste\n",
        "X = df.drop(\"Class\", axis=1)\n",
        "y = df[\"Class\"]\n",
        "\n",
        "X_train, X_test, y_train, y_test = train_test_split(X,y, test_size=0.33, random_state=123)\n",
        "\n",
        "#Normalizando os dados\n",
        "ss = StandardScaler()\n",
        "X_train_norm = ss.fit_transform(X_train)\n",
        "X_test_norm = ss.fit_transform(X_test)\n",
        "\n",
        "#Transformando a variável cartegorica em binária\n",
        "labelencoder = LabelEncoder()\n",
        "y_train_bin = labelencoder.fit_transform(y_train)\n",
        "y_test_bin = labelencoder.fit_transform(y_test)"
      ],
      "execution_count": 85,
      "outputs": []
    },
    {
      "cell_type": "code",
      "metadata": {
        "id": "t3LA8cqW6p_v",
        "colab": {
          "base_uri": "https://localhost:8080/"
        },
        "outputId": "bd4bb9e0-90d0-4406-92cf-417fa8a9df66"
      },
      "source": [
        "#Aplicando o modelo KNN\n",
        "\n",
        "#Definindo o valor de vizinhos\n",
        "classifier = KNeighborsClassifier(n_neighbors=15)\n",
        "\n",
        "#Treinar o modelo, com os dados de treinamento\n",
        "classifier.fit(X_train_norm, y_train_bin)\n",
        "\n",
        "#Prever os valores de y com dos dados de X_test\n",
        "y_pred = classifier.predict(X_test_norm)\n",
        "\n",
        "# Imprimindo a matriz confusa\n",
        "print(\"Matriz Confusa KNN: \")\n",
        "print(confusion_matrix(y_test_bin, y_pred), \"\\n\")  \n",
        "\n",
        "# Imprimindo o relatório de classificação\n",
        "print(\"Relatório de classificação KNN: \\n\", classification_report(y_test_bin, y_pred, target_names=labels))  \n",
        "\n",
        "# Imprimindo o quão acurado foi o modelo\n",
        "acu_knn = accuracy_score(y_test_bin, y_pred) * 100\n",
        "print(\"Acurácia KNN: {:.2f}%\".format(acu_knn))"
      ],
      "execution_count": 86,
      "outputs": [
        {
          "output_type": "stream",
          "text": [
            "Matriz Confusa KNN: \n",
            "[[ 384    0   34    0    2    3   13]\n",
            " [   0  171    0    0    0    0    0]\n",
            " [  11    0  507    0    5    2    7]\n",
            " [   0    0    0 1064    0   12   68]\n",
            " [   0    0   14    2  620    0   18]\n",
            " [   2    0    0   19    1  628   24]\n",
            " [   1    0    0   93    9    6  772]] \n",
            "\n",
            "Relatório de classificação KNN: \n",
            "               precision    recall  f1-score   support\n",
            "\n",
            "    Barbunya       0.96      0.88      0.92       436\n",
            "      Bombay       1.00      1.00      1.00       171\n",
            "        Cali       0.91      0.95      0.93       532\n",
            "    Dermason       0.90      0.93      0.92      1144\n",
            "       Horoz       0.97      0.95      0.96       654\n",
            "       Seker       0.96      0.93      0.95       674\n",
            "        Sira       0.86      0.88      0.87       881\n",
            "\n",
            "    accuracy                           0.92      4492\n",
            "   macro avg       0.94      0.93      0.93      4492\n",
            "weighted avg       0.92      0.92      0.92      4492\n",
            "\n",
            "Acurácia KNN: 92.30%\n"
          ],
          "name": "stdout"
        }
      ]
    },
    {
      "cell_type": "code",
      "metadata": {
        "id": "U2bfgfEB6p_w"
      },
      "source": [
        "#Aplicando a Árvore de decisão\n",
        "\n",
        "#Instanciando o modelo\n",
        "model = DecisionTreeClassifier()\n",
        "\n",
        "# Treinar o modelo\n",
        "model.fit(X_train, y_train_bin)\n",
        "\n",
        "# Aplicar o modelo ao treinamento e ao teste\n",
        "predicted_test_y = model.predict(X_test)\n",
        "\n",
        "predicted_train_y = model.predict(X_train)"
      ],
      "execution_count": 87,
      "outputs": []
    },
    {
      "cell_type": "code",
      "metadata": {
        "id": "rwV9XKgP6p_x",
        "colab": {
          "base_uri": "https://localhost:8080/"
        },
        "outputId": "20682d30-bcf1-4209-9789-f44657a4d4fe"
      },
      "source": [
        "# Imprimindo a matriz confusa\n",
        "print(\"Matriz Confusa Decision Tree: \")\n",
        "print(confusion_matrix(y_test_bin, predicted_test_y), \"\\n\")  \n",
        "\n",
        "# Imprimindo o relatório de classificação\n",
        "print(\"Relatório de classificação Decision Tree: \\n\", classification_report(y_test_bin, predicted_test_y, target_names=labels)) \n",
        "\n",
        "#Imprimindo a acurácia do modelo\n",
        "accuracy_dt = accuracy_score(y_test_bin, predicted_test_y) * 100\n",
        "print(\"Acurácia Decision Tree: {:.2f}%.\".format(accuracy_dt))"
      ],
      "execution_count": 88,
      "outputs": [
        {
          "output_type": "stream",
          "text": [
            "Matriz Confusa Decision Tree: \n",
            "[[ 381    0   35    0    6    3   11]\n",
            " [   0  171    0    0    0    0    0]\n",
            " [  27    0  487    0   11    2    5]\n",
            " [   0    0    0 1038    3   12   91]\n",
            " [   2    0   14    7  609    0   22]\n",
            " [   5    0    1   31    0  615   22]\n",
            " [   7    0    1  100   17   16  740]] \n",
            "\n",
            "Relatório de classificação Decision Tree: \n",
            "               precision    recall  f1-score   support\n",
            "\n",
            "    Barbunya       0.90      0.87      0.89       436\n",
            "      Bombay       1.00      1.00      1.00       171\n",
            "        Cali       0.91      0.92      0.91       532\n",
            "    Dermason       0.88      0.91      0.89      1144\n",
            "       Horoz       0.94      0.93      0.94       654\n",
            "       Seker       0.95      0.91      0.93       674\n",
            "        Sira       0.83      0.84      0.84       881\n",
            "\n",
            "    accuracy                           0.90      4492\n",
            "   macro avg       0.92      0.91      0.91      4492\n",
            "weighted avg       0.90      0.90      0.90      4492\n",
            "\n",
            "Acurácia Decision Tree: 89.96%.\n"
          ],
          "name": "stdout"
        }
      ]
    },
    {
      "cell_type": "code",
      "metadata": {
        "id": "KWM5MLyt6p_x",
        "colab": {
          "base_uri": "https://localhost:8080/"
        },
        "outputId": "bf7fde69-7cc6-4576-93cb-cef654bf2928"
      },
      "source": [
        "#Aplicando a Random Forest\n",
        "\n",
        "#Instanciando o modelo\n",
        "rf = RandomForestClassifier(90, max_depth=10, random_state=42)\n",
        "rf.fit(X_train,y_train_bin)\n",
        "\n",
        "#Aplicando o modelo\n",
        "y_pred_rf = rf.predict(X_test)\n",
        "\n",
        "# Imprimindo a matriz confusa\n",
        "print(\"Matriz Confusa Random Forest: \")\n",
        "print(confusion_matrix(y_test_bin, y_pred_rf), \"\\n\")  \n",
        "\n",
        "# Imprimindo o relatório de classificação\n",
        "print(\"Relatório de classificação Random Forest: \\n\", classification_report(y_test_bin, y_pred_rf, target_names=labels)) \n",
        "\n",
        "#Imprimindo a acurácia do modelo\n",
        "accuracy_rf = accuracy_score(y_test_bin, y_pred_rf) * 100\n",
        "print(\"Acurácia Random Forest: {:.2f}%.\".format(accuracy_rf))"
      ],
      "execution_count": 89,
      "outputs": [
        {
          "output_type": "stream",
          "text": [
            "Matriz Confusa Random Forest: \n",
            "[[ 381    0   36    0    4    3   12]\n",
            " [   0  171    0    0    0    0    0]\n",
            " [  13    0  505    0    5    2    7]\n",
            " [   0    0    0 1080    0   10   54]\n",
            " [   0    0   15    2  621    0   16]\n",
            " [   2    0    0   25    0  627   20]\n",
            " [   2    0    1   94   15    8  761]] \n",
            "\n",
            "Relatório de classificação Random Forest: \n",
            "               precision    recall  f1-score   support\n",
            "\n",
            "    Barbunya       0.96      0.87      0.91       436\n",
            "      Bombay       1.00      1.00      1.00       171\n",
            "        Cali       0.91      0.95      0.93       532\n",
            "    Dermason       0.90      0.94      0.92      1144\n",
            "       Horoz       0.96      0.95      0.96       654\n",
            "       Seker       0.96      0.93      0.95       674\n",
            "        Sira       0.87      0.86      0.87       881\n",
            "\n",
            "    accuracy                           0.92      4492\n",
            "   macro avg       0.94      0.93      0.93      4492\n",
            "weighted avg       0.92      0.92      0.92      4492\n",
            "\n",
            "Acurácia Random Forest: 92.30%.\n"
          ],
          "name": "stdout"
        }
      ]
    },
    {
      "cell_type": "code",
      "metadata": {
        "id": "SwxVsj3h6p_y",
        "colab": {
          "base_uri": "https://localhost:8080/"
        },
        "outputId": "0d8e3536-8691-4152-85f6-455940c1ab0e"
      },
      "source": [
        "#Aplicando a Rede Neural MLP\n",
        "\n",
        "#Instanciado o modelo\n",
        "modelNN = Sequential()\n",
        "modelNN.add(Dense(256, input_shape=(16,), activation=\"sigmoid\"))\n",
        "modelNN.add(Dense(64, activation=\"sigmoid\"))\n",
        "modelNN.add(Dense(7, activation=\"softmax\"))\n",
        "\n",
        "#Vetorizar a classe resposta\n",
        "lb = LabelBinarizer()\n",
        "y_train_vet = lb.fit_transform(y_train)\n",
        "y_test_vet = lb.fit_transform(y_test)\n",
        "\n",
        "#Realizando o treinamento\n",
        "modelNN.compile(optimizer=SGD(0.01), loss=\"categorical_crossentropy\", metrics=[\"accuracy\"])\n",
        "H = modelNN.fit(X_train_norm, y_train_vet, batch_size=128, epochs=10, verbose=2, validation_data=(X_test_norm, y_test_vet))\n",
        "\n",
        "#Avalidando a Rede Neural \n",
        "predictions = modelNN.predict(X_test_norm, batch_size=128)\n",
        "\n",
        "# Imprimindo a matriz confusa\n",
        "print(\"Matriz Confusa Rede Neural MLP: \")\n",
        "print(confusion_matrix(y_test_vet.argmax(axis=1), predictions.argmax(axis=1)), \"\\n\")  \n",
        "\n",
        "# Imprimindo o relatório de classificação\n",
        "print(\"Relatório de classificação Rede Neural MLP: \\n\", classification_report(y_test_vet.argmax(axis=1), predictions.argmax(axis=1), target_names=labels, zero_division=0))\n",
        "\n",
        "#Imprimindo a acurácia do modelo\n",
        "accuracy_nn = accuracy_score(y_test_vet.argmax(axis=1), predictions.argmax(axis=1)) * 100\n",
        "print(\"Acurácia Rede Neural MLP: {:.2f}%.\".format(accuracy_nn))\n",
        "\n",
        "#Matriz confusa\n",
        "#cnf_matrix = confusion_matrix(X_test_norm, predictions.argmax(axis=1))"
      ],
      "execution_count": 90,
      "outputs": [
        {
          "output_type": "stream",
          "text": [
            "Epoch 1/10\n",
            "72/72 - 1s - loss: 1.8566 - accuracy: 0.2301 - val_loss: 1.8246 - val_accuracy: 0.2547\n",
            "Epoch 2/10\n",
            "72/72 - 0s - loss: 1.8084 - accuracy: 0.2634 - val_loss: 1.7985 - val_accuracy: 0.2547\n",
            "Epoch 3/10\n",
            "72/72 - 0s - loss: 1.7848 - accuracy: 0.2634 - val_loss: 1.7757 - val_accuracy: 0.2547\n",
            "Epoch 4/10\n",
            "72/72 - 0s - loss: 1.7614 - accuracy: 0.2634 - val_loss: 1.7528 - val_accuracy: 0.2547\n",
            "Epoch 5/10\n",
            "72/72 - 0s - loss: 1.7371 - accuracy: 0.2634 - val_loss: 1.7272 - val_accuracy: 0.2547\n",
            "Epoch 6/10\n",
            "72/72 - 0s - loss: 1.7113 - accuracy: 0.2634 - val_loss: 1.7005 - val_accuracy: 0.2551\n",
            "Epoch 7/10\n",
            "72/72 - 0s - loss: 1.6836 - accuracy: 0.2652 - val_loss: 1.6732 - val_accuracy: 0.2553\n",
            "Epoch 8/10\n",
            "72/72 - 0s - loss: 1.6541 - accuracy: 0.2750 - val_loss: 1.6410 - val_accuracy: 0.2845\n",
            "Epoch 9/10\n",
            "72/72 - 0s - loss: 1.6216 - accuracy: 0.3117 - val_loss: 1.6108 - val_accuracy: 0.2763\n",
            "Epoch 10/10\n",
            "72/72 - 0s - loss: 1.5879 - accuracy: 0.3249 - val_loss: 1.5730 - val_accuracy: 0.3689\n",
            "Matriz Confusa Rede Neural MLP: \n",
            "[[   0    0    0  244   45    2  145]\n",
            " [   0    0   80    0   18    0   73]\n",
            " [   0    0    0  133  235    0  164]\n",
            " [   0    0    0 1144    0    0    0]\n",
            " [   0    0    0  157  495    0    2]\n",
            " [   0    0    0  655    1   18    0]\n",
            " [   0    0    0  879    2    0    0]] \n",
            "\n",
            "Relatório de classificação Rede Neural MLP: \n",
            "               precision    recall  f1-score   support\n",
            "\n",
            "    Barbunya       0.00      0.00      0.00       436\n",
            "      Bombay       0.00      0.00      0.00       171\n",
            "        Cali       0.00      0.00      0.00       532\n",
            "    Dermason       0.36      1.00      0.53      1144\n",
            "       Horoz       0.62      0.76      0.68       654\n",
            "       Seker       0.90      0.03      0.05       674\n",
            "        Sira       0.00      0.00      0.00       881\n",
            "\n",
            "    accuracy                           0.37      4492\n",
            "   macro avg       0.27      0.25      0.18      4492\n",
            "weighted avg       0.32      0.37      0.24      4492\n",
            "\n",
            "Acurácia Rede Neural MLP: 36.89%.\n"
          ],
          "name": "stdout"
        }
      ]
    },
    {
      "cell_type": "code",
      "metadata": {
        "id": "luBuatyA6p_y"
      },
      "source": [
        "#Ensamble de Redes Neurais\n"
      ],
      "execution_count": null,
      "outputs": []
    },
    {
      "cell_type": "code",
      "metadata": {
        "id": "ef-y7fLh6p_y",
        "colab": {
          "base_uri": "https://localhost:8080/"
        },
        "outputId": "ecbaa429-4b63-4876-82e1-7fd5cf28bb08"
      },
      "source": [
        "#Ensamble heterogêneo\n",
        "\n",
        "#Instanciando o modelo\n",
        "rfr = RandomForestRegressor(n_estimators = 1000, random_state = 42)\n",
        "\n",
        "# Treinando o modelo no dataset de treino\n",
        "rfr.fit(X_train, y_train_vet)\n",
        "\n",
        "#Avaliando o desempenho através do erro médio absoluto\n",
        "#score = -1*cross_val_score(rfr, X_test, y_test_bin, cv = 10, scoring = 'neg_mean_absolute_error').mean()\n",
        "\n",
        "#print(score)\n",
        "#Aplicando o modelo\n",
        "y_pred_en = rfr.predict(X_test)\n",
        "\n",
        "#Calcula o erro absoluto\n",
        "errors = abs(y_pred_en - y_test_vet)\n",
        "\n",
        "#Calcula a porcentagem do erro absoluto medio(MAPE)\n",
        "mape = 100 * (errors / y_test_vet)\n",
        "\n",
        "# Imprimindo a matriz confusa\n",
        "#print(\"Matriz Confusa Ensamble heterogêneo: \")\n",
        "#print(confusion_matrix(y_test_bin, y_pred_en, \"\\n\"))  \n",
        "\n",
        "# Imprimindo o relatório de classificação\n",
        "#print(\"Relatório de classificação Ensamble heterogêneo: \\n\", classification_report(y_test_bin, y_pred_en, target_names=labels))\n",
        "\n",
        "#Imprimindo a acurácia do modelo\n",
        "#accuracy_en = accuracy_score(y_test_bin, y_pred_en) * 100\n",
        "#print(\"Acurácia Ensamble heterogêneo: {:.2f}%.\".format(accuracy_en))\n",
        "accuracy_en = 100 - np.mean(mape)\n",
        "print('Acurácia Ensamble heterogêneo:', round(accuracy_en, 2), '%.')"
      ],
      "execution_count": 81,
      "outputs": [
        {
          "output_type": "stream",
          "text": [
            "Acurácia Ensamble heterogêneo: nan %.\n"
          ],
          "name": "stdout"
        },
        {
          "output_type": "stream",
          "text": [
            "/usr/local/lib/python3.7/dist-packages/ipykernel_launcher.py:20: RuntimeWarning: divide by zero encountered in true_divide\n",
            "/usr/local/lib/python3.7/dist-packages/ipykernel_launcher.py:20: RuntimeWarning: invalid value encountered in true_divide\n"
          ],
          "name": "stderr"
        }
      ]
    }
  ]
}