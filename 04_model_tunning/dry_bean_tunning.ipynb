{
 "metadata": {
  "language_info": {
   "codemirror_mode": {
    "name": "ipython",
    "version": 3
   },
   "file_extension": ".py",
   "mimetype": "text/x-python",
   "name": "python",
   "nbconvert_exporter": "python",
   "pygments_lexer": "ipython3",
   "version": "3.9.1-final"
  },
  "orig_nbformat": 2,
  "kernelspec": {
   "name": "python3",
   "display_name": "Python 3.9.1 64-bit",
   "metadata": {
    "interpreter": {
     "hash": "799275936fb7c37caa15961302e1f6bc5b6f09e92bdf39e5acfe019a9d46a476"
    }
   }
  }
 },
 "nbformat": 4,
 "nbformat_minor": 2,
 "cells": [
  {
   "cell_type": "code",
   "execution_count": 85,
   "metadata": {},
   "outputs": [],
   "source": [
    "import pandas as pd\n",
    "from sklearn.preprocessing import StandardScaler\n",
    "from sklearn.model_selection import train_test_split\n",
    "from sklearn.neighbors import KNeighborsClassifier\n",
    "from sklearn.tree import DecisionTreeClassifier\n",
    "from sklearn.ensemble import RandomForestClassifier\n",
    "from sklearn.preprocessing import LabelEncoder\n",
    "from sklearn.model_selection import cross_val_score\n",
    "from sklearn.metrics import classification_report, confusion_matrix, accuracy_score"
   ]
  },
  {
   "cell_type": "code",
   "execution_count": 73,
   "metadata": {},
   "outputs": [],
   "source": [
    "#Carregando o dataset\n",
    "df = pd.read_excel(\"../dataset/dry_bean_dataset.xls\")"
   ]
  },
  {
   "cell_type": "code",
   "execution_count": 74,
   "metadata": {},
   "outputs": [],
   "source": [
    "#Dividindo a base em treino e teste\n",
    "X = df.drop(\"Class\", axis=1)\n",
    "y = df[\"Class\"]\n",
    "\n",
    "#Transformando a variável cartegorica em binária\n",
    "labelencoder = LabelEncoder()\n",
    "y = labelencoder.fit_transform(y)\n",
    "\n",
    "X_train, X_test, y_train, y_test = train_test_split(X,y, test_size=0.33, random_state=123)\n",
    "\n",
    "#Normalizando os dados\n",
    "ss = StandardScaler()\n",
    "X_train = ss.fit_transform(X_train)\n",
    "X_test = ss.fit_transform(X_test)"
   ]
  },
  {
   "cell_type": "code",
   "execution_count": 110,
   "metadata": {},
   "outputs": [
    {
     "output_type": "stream",
     "name": "stdout",
     "text": [
      "Matriz Confusa: \n[[ 387    0   30    0    2    4   13]\n [   0  171    0    0    0    0    0]\n [  13    0  504    0    6    2    7]\n [   0    0    0 1051    1   11   81]\n [   0    0   19    3  614    0   18]\n [   5    0    0   23    1  625   20]\n [   2    0    0   93   10   10  766]] \n\nRelatório de classificação: \n               precision    recall  f1-score   support\n\n           0       0.95      0.89      0.92       436\n           1       1.00      1.00      1.00       171\n           2       0.91      0.95      0.93       532\n           3       0.90      0.92      0.91      1144\n           4       0.97      0.94      0.95       654\n           5       0.96      0.93      0.94       674\n           6       0.85      0.87      0.86       881\n\n    accuracy                           0.92      4492\n   macro avg       0.93      0.93      0.93      4492\nweighted avg       0.92      0.92      0.92      4492\n\nAcurácia do modelo: 91.67%.\n"
     ]
    }
   ],
   "source": [
    "#Aplicando o modelo KNN\n",
    "\n",
    "#Definindo o valor de vizinhos\n",
    "classifier = KNeighborsClassifier(n_neighbors=5)\n",
    "\n",
    "#Treinar o modelo, com os dados de treinamento\n",
    "classifier.fit(X_train, y_train)\n",
    "\n",
    "#Prever os valores de y com dos dados de X_test\n",
    "y_pred = classifier.predict(X_test)\n",
    "\n",
    "# Imprimindo a matriz confusa\n",
    "print(\"Matriz Confusa: \")\n",
    "print(confusion_matrix(y_test, y_pred), \"\\n\")  \n",
    "\n",
    "# Imprimindo o relatório de classificação\n",
    "print(\"Relatório de classificação: \\n\", classification_report(y_test, y_pred))  \n",
    "\n",
    "# Imprimindo o quão acurado foi o modelo\n",
    "acu_knn = accuracy_score(y_test, y_pred) * 100\n",
    "print(\"Acurácia KNN: {:.2f}%\".format(acu_knn))"
   ]
  },
  {
   "cell_type": "code",
   "execution_count": 94,
   "metadata": {},
   "outputs": [],
   "source": [
    "#Aplicando a Árvore de decisão\n",
    "\n",
    "#Instanciando o modelo\n",
    "model = DecisionTreeClassifier()\n",
    "\n",
    "# Treinar o modelo\n",
    "model.fit(X_train, y_train)\n",
    "\n",
    "# Aplicar o modelo ao treinamento e ao teste\n",
    "predicted_test_y = model.predict(X_test)\n",
    "\n",
    "predicted_train_y = model.predict(X_train)"
   ]
  },
  {
   "cell_type": "code",
   "execution_count": 111,
   "metadata": {},
   "outputs": [
    {
     "output_type": "stream",
     "name": "stdout",
     "text": [
      "Acurácia Decision Tree: 89.94%.\n"
     ]
    }
   ],
   "source": [
    "#Imprimindo a acurácia do modelo\n",
    "accuracy = accuracy_score(y_test, predicted_test_y) * 100\n",
    "print (\"Acurácia Decision Tree: {:.2f}%.\".format(accuracy))"
   ]
  },
  {
   "cell_type": "code",
   "execution_count": 115,
   "metadata": {},
   "outputs": [
    {
     "output_type": "stream",
     "name": "stdout",
     "text": [
      "Acurácia Random Forest: 61.78%.\n"
     ]
    }
   ],
   "source": [
    "#Aplicando a Random Forest\n",
    "\n",
    "#Instanciando o modelo\n",
    "rf = RandomForestClassifier(80, max_depth=10, random_state=42)\n",
    "rf.fit(X,y)\n",
    "\n",
    "#Resultado do modelo\n",
    "score_rf = cross_val_score(rf, X, y, cv=5, scoring='accuracy').mean()\n",
    "score_rf = score_rf * 100\n",
    "print(\"Acurácia Random Forest: {:.2f}%.\".format(score_rf))"
   ]
  },
  {
   "cell_type": "code",
   "execution_count": null,
   "metadata": {},
   "outputs": [],
   "source": [
    "#Aplicando a Rede Neural MLP\n"
   ]
  },
  {
   "cell_type": "code",
   "execution_count": null,
   "metadata": {},
   "outputs": [],
   "source": [
    "#Ensamble de Redes Neurais"
   ]
  },
  {
   "cell_type": "code",
   "execution_count": null,
   "metadata": {},
   "outputs": [],
   "source": [
    "#Ensamble heterogêneo"
   ]
  }
 ]
}