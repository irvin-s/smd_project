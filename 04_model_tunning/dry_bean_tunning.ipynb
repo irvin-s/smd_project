{
  "nbformat": 4,
  "nbformat_minor": 0,
  "metadata": {
    "language_info": {
      "codemirror_mode": {
        "name": "ipython",
        "version": 3
      },
      "file_extension": ".py",
      "mimetype": "text/x-python",
      "name": "python",
      "nbconvert_exporter": "python",
      "pygments_lexer": "ipython3",
      "version": "3.9.1-final"
    },
    "orig_nbformat": 2,
    "kernelspec": {
      "name": "python3",
      "display_name": "Python 3.9.1 64-bit",
      "metadata": {
        "interpreter": {
          "hash": "799275936fb7c37caa15961302e1f6bc5b6f09e92bdf39e5acfe019a9d46a476"
        }
      }
    },
    "colab": {
      "name": "dry_bean_tunning.ipynb",
      "provenance": []
    }
  },
  "cells": [
    {
      "cell_type": "code",
      "metadata": {
        "id": "_dvIz-1A6p_l"
      },
      "source": [
        "import pandas as pd\n",
        "import numpy as np\n",
        "from sklearn.preprocessing import StandardScaler\n",
        "from sklearn.model_selection import train_test_split\n",
        "from sklearn.neighbors import KNeighborsClassifier\n",
        "from sklearn.tree import DecisionTreeClassifier\n",
        "from sklearn.ensemble import RandomForestClassifier\n",
        "from sklearn.ensemble import RandomForestRegressor\n",
        "from keras.models import Sequential\n",
        "from keras.layers.core import Dense\n",
        "from keras.optimizers import SGD\n",
        "from sklearn.preprocessing import LabelEncoder\n",
        "from sklearn.preprocessing import LabelBinarizer\n",
        "from sklearn.model_selection import cross_val_score\n",
        "from sklearn.metrics import classification_report, confusion_matrix, accuracy_score\n",
        "import matplotlib.pyplot as plt\n",
        "import seaborn as sns"
      ],
      "execution_count": 78,
      "outputs": []
    },
    {
      "cell_type": "code",
      "metadata": {
        "id": "_l1IvTAd6p_u"
      },
      "source": [
        "#Carregando o dataset\n",
        "df = pd.read_excel(\"https://raw.githubusercontent.com/irvin-s/smd_project/main/dataset/dry_bean_dataset.xls\")"
      ],
      "execution_count": 75,
      "outputs": []
    },
    {
      "cell_type": "code",
      "metadata": {
        "id": "QWe9myuZ6p_v"
      },
      "source": [
        "#atribuindo os labes para a classe reposta\n",
        "labels = [\"Barbunya\", \"Bombay\", \"Cali\", \"Dermason\", \"Horoz\", \"Seker\", \"Sira\"]\n",
        "\n",
        "#Dividindo a base em treino e teste\n",
        "X = df.drop(\"Class\", axis=1)\n",
        "y = df[\"Class\"]\n",
        "\n",
        "X_train, X_test, y_train, y_test = train_test_split(X,y, stratify=y,test_size=0.33, random_state=123)\n",
        "\n",
        "#Normalizando os dados\n",
        "ss = StandardScaler()\n",
        "X_train_norm = ss.fit_transform(X_train)\n",
        "X_test_norm = ss.fit_transform(X_test)\n",
        "\n",
        "\n",
        "#Transformando a variável cartegorica em binária\n",
        "labelencoder = LabelEncoder()\n",
        "y_train_bin = labelencoder.fit_transform(y_train)\n",
        "y_test_bin = labelencoder.fit_transform(y_test)"
      ],
      "execution_count": 76,
      "outputs": []
    },
    {
      "cell_type": "code",
      "metadata": {
        "id": "t3LA8cqW6p_v",
        "colab": {
          "base_uri": "https://localhost:8080/",
          "height": 758
        },
        "outputId": "f2e198ab-948f-4961-940a-061823f65abc"
      },
      "source": [
        "#Aplicando o modelo KNN\n",
        "\n",
        "#Definindo o valor de vizinhos\n",
        "classifier = KNeighborsClassifier(n_neighbors=15)\n",
        "\n",
        "#Treinar o modelo, com os dados de treinamento\n",
        "classifier.fit(X_train_norm, y_train_bin)\n",
        "\n",
        "#Prever os valores de y com dos dados de X_test\n",
        "y_pred = classifier.predict(X_test_norm)\n",
        "\n",
        "# Imprimindo a matriz confusa\n",
        "print(\"Matriz Confusa KNN: \")\n",
        "print(confusion_matrix(y_test_bin, y_pred), \"\\n\")  \n",
        "\n",
        "# Imprimindo o gráfico de caixa\n",
        "print(\"Boxplot KNN: \")\n",
        "sns.boxplot(x=y_test_bin,y=y_pred, data=df)\n",
        "plt.show()\n",
        "print(\"\\n\")  \n",
        "\n",
        "# Imprimindo o relatório de classificação\n",
        "print(\"Relatório de classificação KNN: \\n\", classification_report(y_test_bin, y_pred, target_names=labels))  \n",
        "\n",
        "# Imprimindo o quão acurado foi o modelo\n",
        "acu_knn = accuracy_score(y_test_bin, y_pred) * 100\n",
        "print(\"Acurácia KNN(Holdout): {:.2f}%\".format(acu_knn))\n",
        "\n",
        "#Validação cruzada com k-fold e k=10\n",
        "scores_knn = cross_val_score(classifier, X_test, y_test_bin, cv=10, scoring='accuracy')\n",
        "print(\"Acurácia média KNN(k-fold): {:.2f}% \".format(scores_knn.mean()*100))"
      ],
      "execution_count": 96,
      "outputs": [
        {
          "output_type": "stream",
          "text": [
            "Matriz Confusa KNN: \n",
            "[[ 389    0   29    0    1    4   14]\n",
            " [   0  172    0    0    0    0    0]\n",
            " [  14    0  507    0   10    1    6]\n",
            " [   0    0    0 1072    1   20   77]\n",
            " [   1    0    8    4  602    0   21]\n",
            " [   6    0    0    9    0  627   27]\n",
            " [   2    0    2   79   10    9  768]] \n",
            "\n",
            "Boxplot KNN: \n"
          ],
          "name": "stdout"
        },
        {
          "output_type": "display_data",
          "data": {
            "image/png": "[encoded data removed]",
            "text/plain": [
              "<Figure size 432x288 with 1 Axes>"
            ]
          },
          "metadata": {
            "tags": [],
            "needs_background": "light"
          }
        },
        {
          "output_type": "stream",
          "text": [
            "\n",
            "\n",
            "Relatório de classificação KNN: \n",
            "               precision    recall  f1-score   support\n",
            "\n",
            "    Barbunya       0.94      0.89      0.92       437\n",
            "      Bombay       1.00      1.00      1.00       172\n",
            "        Cali       0.93      0.94      0.94       538\n",
            "    Dermason       0.92      0.92      0.92      1170\n",
            "       Horoz       0.96      0.95      0.96       636\n",
            "       Seker       0.95      0.94      0.94       669\n",
            "        Sira       0.84      0.88      0.86       870\n",
            "\n",
            "    accuracy                           0.92      4492\n",
            "   macro avg       0.94      0.93      0.93      4492\n",
            "weighted avg       0.92      0.92      0.92      4492\n",
            "\n",
            "Acurácia KNN(Holdout): 92.10%\n",
            "Acurácia média KNN(k-fold): 64.20% \n"
          ],
          "name": "stdout"
        }
      ]
    },
    {
      "cell_type": "code",
      "metadata": {
        "id": "U2bfgfEB6p_w"
      },
      "source": [
        "#Aplicando a Árvore de decisão\n",
        "\n",
        "#Instanciando o modelo\n",
        "model = DecisionTreeClassifier()\n",
        "\n",
        "# Treinar o modelo\n",
        "model.fit(X_train, y_train_bin)\n",
        "\n",
        "# Aplicar o modelo ao treinamento e ao teste\n",
        "predicted_test_y = model.predict(X_test)\n",
        "\n",
        "predicted_train_y = model.predict(X_train)"
      ],
      "execution_count": 91,
      "outputs": []
    },
    {
      "cell_type": "code",
      "metadata": {
        "id": "rwV9XKgP6p_x",
        "colab": {
          "base_uri": "https://localhost:8080/"
        },
        "outputId": "d17138b0-76f5-4722-be10-94406d303d7c"
      },
      "source": [
        "# Imprimindo a matriz confusa\n",
        "print(\"Matriz Confusa Decision Tree: \")\n",
        "print(confusion_matrix(y_test_bin, predicted_test_y), \"\\n\")  \n",
        "\n",
        "# Imprimindo o relatório de classificação\n",
        "print(\"Relatório de classificação Decision Tree: \\n\", classification_report(y_test_bin, predicted_test_y, target_names=labels)) \n",
        "\n",
        "#Imprimindo a acurácia do modelo\n",
        "accuracy_dt = accuracy_score(y_test_bin, predicted_test_y) * 100\n",
        "print(\"Acurácia Decision Tree(Holdout): {:.2f}%.\".format(accuracy_dt))\n",
        "\n",
        "#Validação cruzada com k-fold e k=10\n",
        "scores_dt = cross_val_score(model, X_test, y_test_bin, cv=10, scoring='accuracy')\n",
        "print(\"Acurácia média Decision Tree(k-fold): {:.2f}% \".format(scores_dt.mean()*100))"
      ],
      "execution_count": 92,
      "outputs": [
        {
          "output_type": "stream",
          "text": [
            "Matriz Confusa Decision Tree: \n",
            "[[ 394    0   25    0    2    4   12]\n",
            " [   1  170    1    0    0    0    0]\n",
            " [  30    0  482    0   20    1    5]\n",
            " [   0    0    0 1023    1   24  122]\n",
            " [   5    0   10    5  597    0   19]\n",
            " [   9    0    0   19    0  618   23]\n",
            " [  16    0    6   99   14   21  714]] \n",
            "\n",
            "Relatório de classificação Decision Tree: \n",
            "               precision    recall  f1-score   support\n",
            "\n",
            "    Barbunya       0.87      0.90      0.88       437\n",
            "      Bombay       1.00      0.99      0.99       172\n",
            "        Cali       0.92      0.90      0.91       538\n",
            "    Dermason       0.89      0.87      0.88      1170\n",
            "       Horoz       0.94      0.94      0.94       636\n",
            "       Seker       0.93      0.92      0.92       669\n",
            "        Sira       0.80      0.82      0.81       870\n",
            "\n",
            "    accuracy                           0.89      4492\n",
            "   macro avg       0.91      0.91      0.91      4492\n",
            "weighted avg       0.89      0.89      0.89      4492\n",
            "\n",
            "Acurácia Decision Tree(Holdout): 89.00%.\n",
            "Acurácia média Decision Tree(k-fold): 88.65% \n"
          ],
          "name": "stdout"
        }
      ]
    },
    {
      "cell_type": "code",
      "metadata": {
        "id": "KWM5MLyt6p_x",
        "colab": {
          "base_uri": "https://localhost:8080/"
        },
        "outputId": "e7336bb2-0e53-4f55-d8ae-dfb5d4398c0d"
      },
      "source": [
        "#Aplicando a Random Forest\n",
        "\n",
        "#Instanciando o modelo\n",
        "rf = RandomForestClassifier(90, max_depth=10, random_state=42)\n",
        "rf.fit(X_train,y_train_bin)\n",
        "\n",
        "#Aplicando o modelo\n",
        "y_pred_rf = rf.predict(X_test)\n",
        "\n",
        "# Imprimindo a matriz confusa\n",
        "print(\"Matriz Confusa Random Forest: \")\n",
        "print(confusion_matrix(y_test_bin, y_pred_rf), \"\\n\")  \n",
        "\n",
        "# Imprimindo o relatório de classificação\n",
        "print(\"Relatório de classificação Random Forest: \\n\", classification_report(y_test_bin, y_pred_rf, target_names=labels)) \n",
        "\n",
        "#Imprimindo a acurácia do modelo\n",
        "accuracy_rf = accuracy_score(y_test_bin, y_pred_rf) * 100\n",
        "print(\"Acurácia Random Forest(Holdout): {:.2f}%.\".format(accuracy_rf))\n",
        "\n",
        "#Validação cruzada com k-fold e k=10\n",
        "scores_dt = cross_val_score(rf, X_test, y_test_bin, cv=10, scoring='accuracy')\n",
        "print(\"Acurácia médiaRandom Forest(k-fold): {:.2f}% \".format(scores_dt.mean()*100))"
      ],
      "execution_count": 94,
      "outputs": [
        {
          "output_type": "stream",
          "text": [
            "Matriz Confusa Random Forest: \n",
            "[[ 389    0   29    0    0    4   15]\n",
            " [   2  170    0    0    0    0    0]\n",
            " [  20    0  496    0   14    1    7]\n",
            " [   0    0    0 1082    1   18   69]\n",
            " [   1    0    8    6  598    0   23]\n",
            " [   3    0    0   14    0  630   22]\n",
            " [   3    0    2   89    7   16  753]] \n",
            "\n",
            "Relatório de classificação Random Forest: \n",
            "               precision    recall  f1-score   support\n",
            "\n",
            "    Barbunya       0.93      0.89      0.91       437\n",
            "      Bombay       1.00      0.99      0.99       172\n",
            "        Cali       0.93      0.92      0.92       538\n",
            "    Dermason       0.91      0.92      0.92      1170\n",
            "       Horoz       0.96      0.94      0.95       636\n",
            "       Seker       0.94      0.94      0.94       669\n",
            "        Sira       0.85      0.87      0.86       870\n",
            "\n",
            "    accuracy                           0.92      4492\n",
            "   macro avg       0.93      0.92      0.93      4492\n",
            "weighted avg       0.92      0.92      0.92      4492\n",
            "\n",
            "Acurácia Random Forest(Holdout): 91.67%.\n",
            "Acurácia médiaRandom Forest(k-fold): 91.27% \n"
          ],
          "name": "stdout"
        }
      ]
    },
    {
      "cell_type": "code",
      "metadata": {
        "id": "SwxVsj3h6p_y",
        "colab": {
          "base_uri": "https://localhost:8080/",
          "height": 622
        },
        "outputId": "ebe9dd07-b44b-46af-d42b-3e50ee6ac34b"
      },
      "source": [
        "#Aplicando a Rede Neural MLP\n",
        "\n",
        "#Instanciado o modelo\n",
        "modelNN = Sequential()\n",
        "modelNN.add(Dense(50, input_dim=16, activation='relu'))\n",
        "modelNN.add(Dense(7, activation='softmax'))\n",
        "modelNN.compile(loss='categorical_crossentropy', optimizer='adam', metrics=['accuracy'])\n",
        "\n",
        "#Vetorizar a classe resposta\n",
        "lb = LabelBinarizer()\n",
        "y_train_vet = lb.fit_transform(y_train)\n",
        "y_test_vet = lb.fit_transform(y_test)\n",
        "\n",
        "#Realizando o treinamento\n",
        "modelNN.fit(X_train_norm, y_train_vet, batch_size=128, epochs=300, verbose=0, validation_data=(X_test_norm, y_test_vet))\n",
        "\n",
        "#Avalidando a Rede Neural \n",
        "predictions = modelNN.predict(X_test_norm, batch_size=128)\n",
        "\n",
        "# Imprimindo a matriz confusa\n",
        "print(\"Matriz Confusa Rede Neural MLP: \")\n",
        "print(confusion_matrix(y_test_vet.argmax(axis=1), predictions.argmax(axis=1)), \"\\n\")  \n",
        "\n",
        "# Imprimindo o relatório de classificação\n",
        "print(\"Relatório de classificação Rede Neural MLP: \\n\", classification_report(y_test_vet.argmax(axis=1), predictions.argmax(axis=1), target_names=labels, zero_division=0))\n",
        "\n",
        "#Imprimindo a acurácia do modelo\n",
        "accuracy_nn = accuracy_score(y_test_vet.argmax(axis=1), predictions.argmax(axis=1)) * 100\n",
        "print(\"Acurácia Rede Neural MLP(Holdout): {:.2f}%.\".format(accuracy_nn))\n",
        "\n",
        "#Validação cruzada com k-fold e k=10\n",
        "#scores_nn = cross_val_score(modelNN, X_test_norm, y_test_vet, cv=10, scoring='neg_mean_absolute_error')\n",
        "print(\"Acurácia média Rede Neural MLP(k-fold): {:.2f}% \".format(scores_nn.mean()*100))"
      ],
      "execution_count": 105,
      "outputs": [
        {
          "output_type": "stream",
          "text": [
            "Matriz Confusa Rede Neural MLP: \n",
            "[[ 401    0   19    0    2    5   10]\n",
            " [   0  172    0    0    0    0    0]\n",
            " [  15    0  505    0    9    1    8]\n",
            " [   1    0    0 1091    3   15   60]\n",
            " [   2    0    6    8  606    0   14]\n",
            " [   5    0    1   13    0  637   13]\n",
            " [   2    0    2   82    9    8  767]] \n",
            "\n",
            "Relatório de classificação Rede Neural MLP: \n",
            "               precision    recall  f1-score   support\n",
            "\n",
            "    Barbunya       0.94      0.92      0.93       437\n",
            "      Bombay       1.00      1.00      1.00       172\n",
            "        Cali       0.95      0.94      0.94       538\n",
            "    Dermason       0.91      0.93      0.92      1170\n",
            "       Horoz       0.96      0.95      0.96       636\n",
            "       Seker       0.96      0.95      0.95       669\n",
            "        Sira       0.88      0.88      0.88       870\n",
            "\n",
            "    accuracy                           0.93      4492\n",
            "   macro avg       0.94      0.94      0.94      4492\n",
            "weighted avg       0.93      0.93      0.93      4492\n",
            "\n",
            "Acurácia Rede Neural MLP(Holdout): 93.03%.\n"
          ],
          "name": "stdout"
        },
        {
          "output_type": "error",
          "ename": "NameError",
          "evalue": "ignored",
          "traceback": [
            "\u001b[0;31m---------------------------------------------------------------------------\u001b[0m",
            "\u001b[0;31mNameError\u001b[0m                                 Traceback (most recent call last)",
            "\u001b[0;32m<ipython-input-105-599099dbe416>\u001b[0m in \u001b[0;36m<module>\u001b[0;34m()\u001b[0m\n\u001b[1;32m     31\u001b[0m \u001b[0;31m#Validação cruzada com k-fold e k=10\u001b[0m\u001b[0;34m\u001b[0m\u001b[0;34m\u001b[0m\u001b[0;34m\u001b[0m\u001b[0m\n\u001b[1;32m     32\u001b[0m \u001b[0;31m#scores_nn = cross_val_score(modelNN, X_test_norm, y_test_vet, cv=10, scoring='neg_mean_absolute_error')\u001b[0m\u001b[0;34m\u001b[0m\u001b[0;34m\u001b[0m\u001b[0;34m\u001b[0m\u001b[0m\n\u001b[0;32m---> 33\u001b[0;31m \u001b[0mprint\u001b[0m\u001b[0;34m(\u001b[0m\u001b[0;34m\"Acurácia média Rede Neural MLP(k-fold): {:.2f}% \"\u001b[0m\u001b[0;34m.\u001b[0m\u001b[0mformat\u001b[0m\u001b[0;34m(\u001b[0m\u001b[0mscores_nn\u001b[0m\u001b[0;34m.\u001b[0m\u001b[0mmean\u001b[0m\u001b[0;34m(\u001b[0m\u001b[0;34m)\u001b[0m\u001b[0;34m*\u001b[0m\u001b[0;36m100\u001b[0m\u001b[0;34m)\u001b[0m\u001b[0;34m)\u001b[0m\u001b[0;34m\u001b[0m\u001b[0;34m\u001b[0m\u001b[0m\n\u001b[0m",
            "\u001b[0;31mNameError\u001b[0m: name 'scores_nn' is not defined"
          ]
        }
      ]
    },
    {
      "cell_type": "code",
      "metadata": {
        "id": "luBuatyA6p_y"
      },
      "source": [
        "#Ensamble de Redes Neurais\n",
        "\n"
      ],
      "execution_count": 2,
      "outputs": []
    },
    {
      "cell_type": "code",
      "metadata": {
        "id": "ef-y7fLh6p_y",
        "colab": {
          "base_uri": "https://localhost:8080/"
        },
        "outputId": "44c0ae5d-5113-4168-9ebe-6a7c2e5be274"
      },
      "source": [
        "#Ensamble heterogêneo\n",
        "\n",
        "#Instanciando o modelo\n",
        "rfr = RandomForestRegressor(n_estimators = 1000, random_state = 42)\n",
        "\n",
        "# Treinando o modelo no dataset de treino\n",
        "rfr.fit(X_train, y_train_vet)\n",
        "\n",
        "#Aplicando o modelo\n",
        "y_pred_en = rfr.predict(X_test)\n",
        "\n",
        "#Avaliando o desempenho através do erro médio absoluto\n",
        "score_en = -1*cross_val_score(rfr, X_test, y_test_vet, cv = 10, scoring = 'neg_mean_absolute_error').mean()*100\n",
        "print(score_en)\n",
        "#Calcula o erro absoluto\n",
        "#errors = abs(y_pred_en - y_test_vet)\n",
        "\n",
        "#Calcula a porcentagem do erro absoluto medio(MAPE)\n",
        "#mape = 100 * (errors / y_test_vet)\n",
        "\n",
        "# Imprimindo a matriz confusa\n",
        "#print(\"Matriz Confusa Ensamble heterogêneo: \")\n",
        "#print(confusion_matrix(y_test_bin, y_pred_en, \"\\n\"))  \n",
        "\n",
        "# Imprimindo o relatório de classificação\n",
        "#print(\"Relatório de classificação Ensamble heterogêneo: \\n\", classification_report(y_test_bin, y_pred_en, target_names=labels))\n",
        "\n",
        "#Imprimindo a acurácia do modelo\n",
        "#accuracy_en = accuracy_score(y_test_bin, y_pred_en) * 100\n",
        "#print(\"Acurácia Ensamble heterogêneo: {:.2f}%.\".format(accuracy_en))\n",
        "#accuracy_en = 100 - np.mean(mape)\n",
        "#print('Acurácia Ensamble heterogêneo:', round(accuracy_en, 2), '%.')"
      ],
      "execution_count": 69,
      "outputs": [
        {
          "output_type": "stream",
          "text": [
            "3.4635451338070498\n"
          ],
          "name": "stdout"
        }
      ]
    }
  ]
}