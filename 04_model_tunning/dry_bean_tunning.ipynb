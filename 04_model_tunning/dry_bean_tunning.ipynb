{
 "metadata": {
  "language_info": {
   "codemirror_mode": {
    "name": "ipython",
    "version": 3
   },
   "file_extension": ".py",
   "mimetype": "text/x-python",
   "name": "python",
   "nbconvert_exporter": "python",
   "pygments_lexer": "ipython3",
   "version": "3.9.1-final"
  },
  "orig_nbformat": 2,
  "kernelspec": {
   "name": "python3",
   "display_name": "Python 3.9.1 64-bit",
   "metadata": {
    "interpreter": {
     "hash": "799275936fb7c37caa15961302e1f6bc5b6f09e92bdf39e5acfe019a9d46a476"
    }
   }
  }
 },
 "nbformat": 4,
 "nbformat_minor": 2,
 "cells": [
  {
   "cell_type": "code",
   "execution_count": 5,
   "metadata": {},
   "outputs": [],
   "source": [
    "import pandas as pd\n",
    "from sklearn.preprocessing import StandardScaler\n",
    "from sklearn.model_selection import train_test_split"
   ]
  },
  {
   "cell_type": "code",
   "execution_count": 6,
   "metadata": {},
   "outputs": [],
   "source": [
    "#Carregando o dataset\n",
    "df = pd.read_excel(\"../dataset/dry_bean_dataset.xls\")"
   ]
  },
  {
   "cell_type": "code",
   "execution_count": 8,
   "metadata": {},
   "outputs": [],
   "source": [
    "#Normalização das variáveis\n",
    "ss = StandardScaler()\n",
    "df_n = df.Area, df.Perimeter, df.MajorAxisLength, df.MinorAxisLength, df.Eccentricity, df.ConvexArea, df.EquivDiameter\n",
    "df_n = ss.fit_transform(df_n)\n",
    "\n",
    "#Inserindo os dados normalizados no dataframe original\n",
    "df[\"Area\"] = df_n[0]\n",
    "df[\"Perimeter\"] = df_n[1]\n",
    "df[\"MajorAxisLength\"] = df_n[2]\n",
    "df[\"MinorAxisLength\"] = df_n[3]\n",
    "df[\"Eccentricity\"] = df_n[4]\n",
    "df[\"ConvexArea\"] = df_n[5]\n",
    "df[\"EquivDiameter\"] = df_n[6]\n",
    "\n",
    "#Dividindo a base em treino e teste\n",
    "X = df.drop(\"Class\", axis=1)\n",
    "y = pd.get_dummies(df[\"Class\"])\n",
    "\n",
    "X_train, X_test, y_train, y_test = train_test_split(X,y, test_size=0.33, random_state=123)"
   ]
  },
  {
   "cell_type": "code",
   "execution_count": null,
   "metadata": {},
   "outputs": [],
   "source": []
  }
 ]
}